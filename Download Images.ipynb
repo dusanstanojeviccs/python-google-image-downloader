{
 "cells": [
  {
   "cell_type": "markdown",
   "metadata": {},
   "source": [
    "# A script to pull images from the Google Image Search\n",
    "\n",
    "Please read the more detailed description of this script at https://github.com/dusanstanojeviccs/python-google-image-downloader\n",
    "\n",
    "Short description of the script:\n",
    "\n",
    "Before running make sure you have Chrome installed and make sure you put the correct chromedriver or chromedriver.exe file (if on Windows) in the same folder as this file.\n",
    "\n",
    "Runnning this file will download images of cats by running the search for the keyword \"cat\" into the \"cat\" folder, to change those change the variables ```query``` and ```class_name``` respectively. You can also change how many images you would like to download change the variable ```image_count```. To change the maximum number of tries to load more images before if the image_count has not been reached you can change the variable ```max_loops_with_no_images```.\n"
   ]
  },
  {
   "cell_type": "code",
   "execution_count": 1,
   "metadata": {},
   "outputs": [
    {
     "name": "stdout",
     "output_type": "stream",
     "text": [
      "\u001b[33mDEPRECATION: Python 2.7 will reach the end of its life on January 1st, 2020. Please upgrade your Python as Python 2.7 won't be maintained after that date. A future version of pip will drop support for Python 2.7. More details about Python 2 support in pip, can be found at https://pip.pypa.io/en/latest/development/release-process/#python-2-support\u001b[0m\n",
      "Requirement already satisfied: selenium in /usr/local/lib/python2.7/site-packages (3.141.0)\n",
      "Requirement already satisfied: Pillow in /usr/local/lib/python2.7/site-packages (6.2.1)\n",
      "Requirement already satisfied: urllib3 in /usr/local/lib/python2.7/site-packages (from selenium) (1.24.3)\n"
     ]
    }
   ],
   "source": [
    "!pip install selenium Pillow"
   ]
  },
  {
   "cell_type": "code",
   "execution_count": 2,
   "metadata": {},
   "outputs": [],
   "source": [
    "!chmod 755 chromedriver"
   ]
  },
  {
   "cell_type": "code",
   "execution_count": 3,
   "metadata": {},
   "outputs": [],
   "source": [
    "from selenium import webdriver\n",
    "import os\n",
    "from time import sleep\n",
    "import base64\n",
    "from PIL import Image\n",
    "from io import BytesIO\n",
    "import requests\n",
    "\n",
    "from selenium.webdriver.chrome.options import Options  \n"
   ]
  },
  {
   "cell_type": "code",
   "execution_count": 4,
   "metadata": {},
   "outputs": [
    {
     "name": "stderr",
     "output_type": "stream",
     "text": [
      "/usr/local/lib/python2.7/site-packages/ipykernel_launcher.py:18: DeprecationWarning: use options instead of chrome_options\n"
     ]
    },
    {
     "name": "stdout",
     "output_type": "stream",
     "text": [
      "('I AM PRETTY MUCH DONE ', 11)\n"
     ]
    }
   ],
   "source": [
    "driver_path = \"./chromedriver\"\n",
    "\n",
    "if os.name == 'nt':\n",
    "    driver_path = \"./chromedriver.exe\"\n",
    "\n",
    "query = \"cat\"\n",
    "class_name = \"cat\"\n",
    "image_count = 10\n",
    "max_loops_with_no_images = 10\n",
    "\n",
    "chrome_options = Options()  \n",
    "chrome_options.add_argument(\"--headless\")  \n",
    "chrome_options.add_argument(\"--disable-gpu\")\n",
    "chrome_options.add_argument(\"--window-size=1920,1200\")\n",
    "chrome_options.add_argument(\"--ignore-certificate-errors\")\n",
    "\n",
    "\n",
    "browser = webdriver.Chrome(driver_path, chrome_options=chrome_options)\n",
    "browser.get(\"https://www.google.com/search?q=\" + query + \"&source=lnms&tbm=isch&sa=X&biw=1029&bih=818&dpr=2\")\n",
    "\n",
    "sleep(2)\n",
    "\n",
    "downloaded_elements = []\n",
    "processeed_elements = []\n",
    "downloaded = 0\n",
    "\n",
    "try:\n",
    "    os.mkdir(class_name)\n",
    "except OSError:\n",
    "    print(\"The directory existed\")\n",
    "\n",
    "loops_with_no_images = 0\n",
    "while len(downloaded_elements) < image_count:\n",
    "    downloaded_in_current_loop = 0\n",
    "\n",
    "    browser.execute_script(\"window.scrollTo(0, document.body.scrollHeight)\")\n",
    "    show_more_button = browser.find_elements_by_css_selector(\"[value='Show more results']\")\n",
    "\n",
    "    for button in show_more_button:\n",
    "        if button.is_displayed() and button.is_enabled():\n",
    "            button.click()\n",
    "\n",
    "    sleep(2)\n",
    "\n",
    "    elements = browser.find_elements_by_css_selector(\"a.rg_l img\")\n",
    "    for i in range(len(elements)):\n",
    "        element = elements[i]\n",
    "        if element in processeed_elements:\n",
    "            continue\n",
    "\n",
    "        processeed_elements.append(element)\n",
    "\n",
    "        src = element.get_attribute(\"src\")\n",
    "        if not src:\n",
    "            src = element.get_attribute(\"data-src\")\n",
    "\n",
    "        if not src:\n",
    "            print(element.get_attribute('outerHTML'))\n",
    "            print(element)\n",
    "            print(src)\n",
    "        \n",
    "        if src and src.startswith(\"data:\"):\n",
    "            data = src.split(\",\")[1]\n",
    "            im = Image.open(BytesIO(base64.b64decode(data)))\n",
    "            im.save(class_name + \"/\" + str(len(downloaded_elements)) + '.png', 'PNG')\n",
    "            downloaded_in_current_loop = downloaded_in_current_loop + 1\n",
    "            downloaded_elements.append(element)\n",
    "        elif src:\n",
    "            response = requests.get(src)\n",
    "            im = Image.open(BytesIO(response.content))\n",
    "            im.save(class_name + \"/\" + str(len(downloaded_elements)) + '.png', 'PNG')\n",
    "            downloaded_in_current_loop = downloaded_in_current_loop + 1\n",
    "            downloaded_elements.append(element)\n",
    "\n",
    "        if len(downloaded_elements) > image_count:\n",
    "            break\n",
    "    \n",
    "    if downloaded_in_current_loop == 0:\n",
    "        loops_with_no_images = loops_with_no_images + 1\n",
    "    else:\n",
    "        loops_with_no_images = 0\n",
    "\n",
    "    if loops_with_no_images > max_loops_with_no_images:\n",
    "        print(\"FOUND NO IMAGES IN \" + str(max_loops_with_no_images) + \" LOOPS :O\")\n",
    "        break\n",
    "\n",
    "print(\"I AM PRETTY MUCH DONE \", len(downloaded_elements))"
   ]
  },
  {
   "cell_type": "code",
   "execution_count": null,
   "metadata": {},
   "outputs": [],
   "source": []
  }
 ],
 "metadata": {
  "kernelspec": {
   "display_name": "Python 2",
   "language": "python",
   "name": "python2"
  },
  "language_info": {
   "codemirror_mode": {
    "name": "ipython",
    "version": 2
   },
   "file_extension": ".py",
   "mimetype": "text/x-python",
   "name": "python",
   "nbconvert_exporter": "python",
   "pygments_lexer": "ipython2",
   "version": "2.7.15"
  }
 },
 "nbformat": 4,
 "nbformat_minor": 2
}
